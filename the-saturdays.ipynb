{
 "cells": [
  {
   "cell_type": "markdown",
   "id": "486f2fb9-dae4-4af4-ae68-519a0f81014f",
   "metadata": {},
   "source": [
    "<img src=\"GeorgiaTech_Navy.png\" width=200/>"
   ]
  },
  {
   "cell_type": "markdown",
   "id": "ff27b553-08bb-4b70-bc66-ced8cfbd55fc",
   "metadata": {},
   "source": [
    "# Recipe Automator\n",
    "A CS7643 Project. \n",
    "\n",
    "## Team Members\n",
    "* Peter Veikos\n",
    "* Luis Murrugarra\n",
    "* Esteban Fajardo\n",
    "\n",
    "## App Instructions\n",
    "Upload your image and get the best closest recipe from [``allrecipes.com``](https://www.allrecipes.com/) and [``yummly.com``](https://www.yummly.com/)."
   ]
  },
  {
   "cell_type": "code",
   "execution_count": 1,
   "id": "dfbc4936-0f41-4918-9aac-cce0e75fc949",
   "metadata": {},
   "outputs": [],
   "source": [
    "from fastai.vision.all import *\n",
    "from fastai.vision.widgets import *\n",
    "from similarity import *\n",
    "from recipe_scrapers import scrape_me"
   ]
  },
  {
   "cell_type": "code",
   "execution_count": 2,
   "id": "0494d04a",
   "metadata": {},
   "outputs": [],
   "source": [
    "image_path = Path(\"data\")"
   ]
  },
  {
   "cell_type": "code",
   "execution_count": 3,
   "id": "4c5ee975-a35b-438b-b154-183a2e29f985",
   "metadata": {},
   "outputs": [],
   "source": [
    "# Read pre-trained model\n",
    "learn_inf = load_learner('model.pkl')\n",
    "learn_similar = load_learner('similarity_v2.pkl')"
   ]
  },
  {
   "cell_type": "code",
   "execution_count": 4,
   "id": "7e3e4c0d",
   "metadata": {},
   "outputs": [],
   "source": [
    "def get_similarity(path, base_img):\n",
    "    img = PILImage.create(path)\n",
    "    simg = SiameseImage(img, base_img)\n",
    "    with learn_similar.no_bar():\n",
    "        pred, pred_idx, pred_prob = learn_similar.predict(simg)\n",
    "    return (path, bool(pred), float(pred_prob[pred_idx]))"
   ]
  },
  {
   "cell_type": "code",
   "execution_count": 5,
   "id": "acc444fb-3aee-453c-a966-cf07931479b6",
   "metadata": {},
   "outputs": [],
   "source": [
    "# Define upload buttom \n",
    "btn_upload = widgets.FileUpload(\n",
    "    accept='.jpg',\n",
    "    multiple=False\n",
    ")\n",
    "\n",
    "input_img_out = widgets.Output()\n",
    "recipe_img_out = widgets.Output()\n",
    "lbl_pred = widgets.HTML()\n",
    "recipe_pred = widgets.HTML()\n",
    "btn_run = widgets.Button(description='Classify!')\n",
    "\n",
    "def on_click_classify(change):\n",
    "    # Get image\n",
    "    img = PILImage.create(btn_upload.data[-1])\n",
    "    \n",
    "    # Delete previous image from the output\n",
    "    input_img_out.clear_output()\n",
    "    recipe_img_out.clear_output()\n",
    "    lbl_pred.value = \"\"\n",
    "    recipe_pred.value = \"\"\n",
    "    \n",
    "    with input_img_out: \n",
    "        display(widgets.HTML('<h3> Input Image: </h3>'))\n",
    "        display(img.to_thumb(512,512))\n",
    "    \n",
    "    # Do the analytics\n",
    "    output_html = '<h3> Food Prediction: </h3>'\n",
    "    output_html += '<div style=\"border:0.5px dotted red;padding:2%;\">'\n",
    "    \n",
    "    # Get predicted category\n",
    "    pred, pred_idx, probs = learn_inf.predict(img)\n",
    "    output_html += f'<h4> The image is {pred} with probability: {100*probs[pred_idx]:.02f}% </h4>'\n",
    "    output_html += '</div>'\n",
    "    lbl_pred.value = output_html\n",
    "    \n",
    "    # Find similar recipes\n",
    "    recipe_html = '<h3> Recipe: </h3>'\n",
    "    recipe_html += '<div style=\"border:0.5px dotted blue;padding:2%;\">'\n",
    "    candidates = get_image_files(image_path / pred)\n",
    "    preds = []\n",
    "    for cand in progress_bar(candidates):\n",
    "        preds.append(get_similarity(cand, img))\n",
    "    top_candidates = list(filter(lambda x:x[1], sorted(preds, key=lambda x:x[2])))\n",
    "    \n",
    "    if len(top_candidates) > 0:\n",
    "        # Get details of closest recipe\n",
    "        top_path, _, top_prob = top_candidates[-1]\n",
    "        top_details = pd.read_csv(\"recipe_table.csv\").query(f\"image_path=='{'/'.join(top_path.parts[1:])}'\").iloc[0].to_dict()\n",
    "        \n",
    "        # Scrape recipe details\n",
    "        scraper = scrape_me(top_details[\"url\"])\n",
    "        recipe_html += f'<h4> {scraper.title()} </h4>'\n",
    "        \n",
    "        # Create a list of attributes\n",
    "        recipe_html += '<ul>'\n",
    "        recipe_html += f'<li> <h5> Link: <a href=\"{top_details[\"url\"]}\"> Recipe </a> </h5>'\n",
    "        \n",
    "        scrap_details = {\"Yields\": \"yields\", \"Duration\": \"total_time\", \"Calories\": \"nutrients\"}\n",
    "        for attr, key_scrap in scrap_details.items():\n",
    "            if attr == \"Calories\":\n",
    "                text_out = scraper.nutrients()[\"calories\"]\n",
    "            elif attr == \"Duration\":\n",
    "                text_out = str(getattr(scraper, key_scrap)()) + \" minutes\"\n",
    "            else:\n",
    "                text_out = getattr(scraper, key_scrap)()\n",
    "            recipe_html += f\"<li> <h5> {attr}: {text_out} </h5> </li>\"\n",
    "        \n",
    "        recipe_img = PILImage.create(top_path)\n",
    "        with recipe_img_out: \n",
    "            display(recipe_img.to_thumb(512,512))\n",
    "        \n",
    "        recipe_html += f'<li> <h5> Model Confidence: {100*top_prob:.02f}% </h5> </li>'\n",
    "        recipe_html += '</ul>'\n",
    "    else:\n",
    "        recipe_html += '<h4 style=\"color:red;\"> Cannot find a similar recipe, sorry! </h4>'\n",
    "    \n",
    "    recipe_html += '</div>'\n",
    "    recipe_pred.value = recipe_html\n",
    "\n",
    "btn_run.on_click(on_click_classify)"
   ]
  },
  {
   "cell_type": "code",
   "execution_count": 6,
   "id": "513d9af5-9f39-434d-8c14-36cd189a65fc",
   "metadata": {
    "scrolled": false
   },
   "outputs": [
    {
     "data": {
      "application/vnd.jupyter.widget-view+json": {
       "model_id": "9eecb64605c04cfeb9538483f257f85e",
       "version_major": 2,
       "version_minor": 0
      },
      "text/plain": [
       "VBox(children=(HTML(value='<h1> Select your food! </h1>'), HTML(value='Upload your image by clicking the uploa…"
      ]
     },
     "metadata": {},
     "output_type": "display_data"
    },
    {
     "data": {
      "text/html": [],
      "text/plain": [
       "<IPython.core.display.HTML object>"
      ]
     },
     "metadata": {},
     "output_type": "display_data"
    },
    {
     "data": {
      "text/html": [
       "\n",
       "    <div>\n",
       "        <style>\n",
       "            /* Turns off some styling */\n",
       "            progress {\n",
       "                /* gets rid of default border in Firefox and Opera. */\n",
       "                border: none;\n",
       "                /* Needs to be in here for Safari polyfill so background images work as expected. */\n",
       "                background-size: auto;\n",
       "            }\n",
       "            .progress-bar-interrupted, .progress-bar-interrupted::-webkit-progress-bar {\n",
       "                background: #F44336;\n",
       "            }\n",
       "        </style>\n",
       "      <progress value='19' class='' max='19' style='width:300px; height:20px; vertical-align: middle;'></progress>\n",
       "      100.00% [19/19 00:04<00:00]\n",
       "    </div>\n",
       "    "
      ],
      "text/plain": [
       "<IPython.core.display.HTML object>"
      ]
     },
     "metadata": {},
     "output_type": "display_data"
    }
   ],
   "source": [
    "# Page Design\n",
    "VBox([widgets.HTML('<h1> Select your food! </h1>'), \n",
    "      widgets.HTML('Upload your image by clicking the upload button and then press the \"Classify!\" button'),\n",
    "      btn_upload,\n",
    "      btn_run,\n",
    "      input_img_out, \n",
    "      lbl_pred,\n",
    "      recipe_pred,\n",
    "      recipe_img_out\n",
    "     ])"
   ]
  }
 ],
 "metadata": {
  "kernelspec": {
   "display_name": "Python 3 (ipykernel)",
   "language": "python",
   "name": "python3"
  },
  "language_info": {
   "codemirror_mode": {
    "name": "ipython",
    "version": 3
   },
   "file_extension": ".py",
   "mimetype": "text/x-python",
   "name": "python",
   "nbconvert_exporter": "python",
   "pygments_lexer": "ipython3",
   "version": "3.7.11"
  }
 },
 "nbformat": 4,
 "nbformat_minor": 5
}
