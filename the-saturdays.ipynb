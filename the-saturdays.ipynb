{
 "cells": [
  {
   "cell_type": "markdown",
   "id": "486f2fb9-dae4-4af4-ae68-519a0f81014f",
   "metadata": {},
   "source": [
    "<img src=\"GeorgiaTech_Navy.png\" width=200/>"
   ]
  },
  {
   "cell_type": "markdown",
   "id": "ff27b553-08bb-4b70-bc66-ced8cfbd55fc",
   "metadata": {},
   "source": [
    "# Optimizing a Recipe for Diet Based on an Image\n",
    "A CS7643 Project. \n",
    "\n",
    "## Team Members\n",
    "* Peter Veikos\n",
    "* Luis Murrugarra\n",
    "* Esteban Fajardo\n",
    "\n",
    "## App Instructions\n",
    "Upload your image and get the best recipe in terms on nutritional value and caloric intake"
   ]
  },
  {
   "cell_type": "code",
   "execution_count": 1,
   "id": "dfbc4936-0f41-4918-9aac-cce0e75fc949",
   "metadata": {},
   "outputs": [],
   "source": [
    "from fastai.vision.all import *\n",
    "from fastai.vision.widgets import *"
   ]
  },
  {
   "cell_type": "code",
   "execution_count": 2,
   "id": "d3c6849b-b475-4027-8cc7-9e2fd8dd7154",
   "metadata": {},
   "outputs": [],
   "source": [
    "btn_upload = widgets.FileUpload(\n",
    "    accept='.jpg',\n",
    "    multiple=False\n",
    ")"
   ]
  },
  {
   "cell_type": "code",
   "execution_count": 3,
   "id": "4c5ee975-a35b-438b-b154-183a2e29f985",
   "metadata": {},
   "outputs": [],
   "source": [
    "# Read pre-trained model\n",
    "learn_inf = load_learner('resnet34_out_lr.pkl')"
   ]
  },
  {
   "cell_type": "code",
   "execution_count": 4,
   "id": "77bd0135-cca5-4ee7-99e1-be2d235a9156",
   "metadata": {},
   "outputs": [],
   "source": [
    "out_pl = widgets.Output()\n",
    "lbl_pred = widgets.Label()\n",
    "btn_run = widgets.Button(description='Classify')\n",
    "\n",
    "def on_click_classify(change):\n",
    "    img = PILImage.create(btn_upload.data[-1])\n",
    "    out_pl.clear_output()\n",
    "    with out_pl: display(img.to_thumb(128,128))\n",
    "    pred, pred_idx, probs = learn_inf.predict(img)\n",
    "    lbl_pred.value = f'Prediction: {pred}; Probability: {probs[pred_idx]:.04f}'\n",
    "\n",
    "btn_run.on_click(on_click_classify)"
   ]
  },
  {
   "cell_type": "code",
   "execution_count": 9,
   "id": "513d9af5-9f39-434d-8c14-36cd189a65fc",
   "metadata": {},
   "outputs": [
    {
     "data": {
      "application/vnd.jupyter.widget-view+json": {
       "model_id": "525d7817b24545b09602482ecdc91f49",
       "version_major": 2,
       "version_minor": 0
      },
      "text/plain": [
       "VBox(children=(Label(value='Select your food!'), FileUpload(value={}, description='Upload'), Button(descriptio…"
      ]
     },
     "metadata": {},
     "output_type": "display_data"
    }
   ],
   "source": [
    "btn_upload = widgets.FileUpload()\n",
    "VBox([widgets.Label('Select your food!'), \n",
    "      btn_upload, btn_run, out_pl, lbl_pred])"
   ]
  }
 ],
 "metadata": {
  "kernelspec": {
   "display_name": "Python 3 (ipykernel)",
   "language": "python",
   "name": "python3"
  },
  "language_info": {
   "codemirror_mode": {
    "name": "ipython",
    "version": 3
   },
   "file_extension": ".py",
   "mimetype": "text/x-python",
   "name": "python",
   "nbconvert_exporter": "python",
   "pygments_lexer": "ipython3",
   "version": "3.7.11"
  }
 },
 "nbformat": 4,
 "nbformat_minor": 5
}
